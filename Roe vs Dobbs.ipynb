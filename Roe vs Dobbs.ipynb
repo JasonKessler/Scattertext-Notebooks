{
 "cells": [
  {
   "cell_type": "code",
   "execution_count": 197,
   "metadata": {},
   "outputs": [
    {
     "data": {
      "text/html": [
       "<style>.container { width:98% !important; }</style>"
      ],
      "text/plain": [
       "<IPython.core.display.HTML object>"
      ]
     },
     "metadata": {},
     "output_type": "display_data"
    }
   ],
   "source": [
    "import os\n",
    "import re\n",
    "\n",
    "import scattertext as st\n",
    "import pandas as pd\n",
    "import requests\n",
    "from bs4 import BeautifulSoup\n",
    "import spacy\n",
    "\n",
    "from tqdm.auto import tqdm\n",
    "\n",
    "from IPython.display import IFrame\n",
    "from IPython.core.display import display, HTML\n",
    "display(HTML(\"<style>.container { width:98% !important; }</style>\"))"
   ]
  },
  {
   "cell_type": "code",
   "execution_count": null,
   "metadata": {},
   "outputs": [],
   "source": []
  },
  {
   "cell_type": "code",
   "execution_count": 62,
   "metadata": {},
   "outputs": [
    {
     "data": {
      "text/plain": [
       "<spacy.pipeline.sentencizer.Sentencizer at 0x7ff4d43f3820>"
      ]
     },
     "execution_count": 62,
     "metadata": {},
     "output_type": "execute_result"
    }
   ],
   "source": [
    "nlp = spacy.blank('en')\n",
    "nlp.add_pipe('sentencizer')"
   ]
  },
  {
   "cell_type": "code",
   "execution_count": 56,
   "metadata": {},
   "outputs": [],
   "source": [
    "roe_opinion = BeautifulSoup(\n",
    "    requests.get('https://www.law.cornell.edu/supremecourt/text/410/113').content, \n",
    "    \"html.parser\"\n",
    ").find('div', attrs={'class': 'bodytext'}).text\n",
    "\n",
    "# Note: this is from an OCR performed via OSX preview\n",
    "dobbs_draft_opinion = open('draft_opinion.txt').read()"
   ]
  },
  {
   "cell_type": "code",
   "execution_count": 192,
   "metadata": {},
   "outputs": [],
   "source": [
    "paragraphs_to_remove = [\n",
    "    x for x in dobbs_draft_opinion.split('\\n') if 'miscarriage' in x and 'medicine' in x\n",
    "][1:] + [x for x in dobbs_draft_opinion.split('\\n') if 'JACKSON WOMEN’S HEALTH ORGANIZATION' in x or \"JACKSON WOMEN'S HEALTH ORGANIZATION\" in x] + [x for x in dobbs_draft_opinion.split('\\n') if  'administer to any woman pregnant' in x][:1]\n",
    "non_redundant_dobbs_paragraphs = [x for x in dobbs_draft_opinion.split('\\n')\n",
    "                                  if x not in paragraphs_to_remove]"
   ]
  },
  {
   "cell_type": "code",
   "execution_count": 193,
   "metadata": {},
   "outputs": [],
   "source": [
    "case_df = pd.DataFrame([\n",
    "    {'Title': 'Roe','Text': roe_opinion},\n",
    "    {'Title': 'Dobbs','Text': '\\n'.join(non_redundant_dobbs_paragraphs)},\n",
    "]).assign(\n",
    "    Parse = lambda df: df.Text.apply(nlp)\n",
    ")"
   ]
  },
  {
   "cell_type": "code",
   "execution_count": 194,
   "metadata": {},
   "outputs": [
    {
     "name": "stdout",
     "output_type": "stream",
     "text": [
      "Num terms 2650\n"
     ]
    }
   ],
   "source": [
    "corpus = st.CorpusFromParsedDocuments(\n",
    "    case_df,\n",
    "    category_col = 'Title',\n",
    "    parsed_col = 'Parse'\n",
    ").build().remove_infrequent_words(\n",
    "    3\n",
    ").filter_out(\n",
    "    lambda x: re.match(r'^([a-z]| )+$', x) is None or x in st.Common.MY_ENGLISH_STOP_WORDS\n",
    ")\n",
    "print('Num terms', corpus.get_num_terms())"
   ]
  },
  {
   "cell_type": "code",
   "execution_count": 199,
   "metadata": {},
   "outputs": [
    {
     "data": {
      "text/plain": [
       "1073904"
      ]
     },
     "execution_count": 199,
     "metadata": {},
     "output_type": "execute_result"
    }
   ],
   "source": [
    "\n",
    "html = st.produce_frequency_explorer(\n",
    "    corpus,\n",
    "    category='Roe', \n",
    "    not_category_name='Dobbs',\n",
    "    minimum_term_frequency=0, \n",
    "    pmi_threshold_coefficient=2,\n",
    "    width_in_pixels=1000, \n",
    "    term_scorer=st.RankDifference()\n",
    ")\n",
    "\n",
    "fn = './roe_vs_dobbs.html'\n",
    "open(fn, 'w').write(html)"
   ]
  },
  {
   "cell_type": "code",
   "execution_count": 200,
   "metadata": {},
   "outputs": [
    {
     "data": {
      "text/html": [
       "\n",
       "        <iframe\n",
       "            width=\"1300\"\n",
       "            height=\"800\"\n",
       "            src=\"./roe_vs_dobbs.html\"\n",
       "            frameborder=\"0\"\n",
       "            allowfullscreen\n",
       "        ></iframe>\n",
       "        "
      ],
      "text/plain": [
       "<IPython.lib.display.IFrame at 0x7ff4d4dc01d0>"
      ]
     },
     "execution_count": 200,
     "metadata": {},
     "output_type": "execute_result"
    }
   ],
   "source": [
    "dIFrame(src=fn, width=1300, height=800)"
   ]
  },
  {
   "cell_type": "code",
   "execution_count": null,
   "metadata": {},
   "outputs": [],
   "source": [
    "\n",
    "\n"
   ]
  }
 ],
 "metadata": {
  "kernelspec": {
   "display_name": "py38",
   "language": "python",
   "name": "py38"
  },
  "language_info": {
   "codemirror_mode": {
    "name": "ipython",
    "version": 3
   },
   "file_extension": ".py",
   "mimetype": "text/x-python",
   "name": "python",
   "nbconvert_exporter": "python",
   "pygments_lexer": "ipython3",
   "version": "3.7.6"
  }
 },
 "nbformat": 4,
 "nbformat_minor": 4
}
